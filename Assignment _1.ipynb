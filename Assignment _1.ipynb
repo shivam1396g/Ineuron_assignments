{
 "cells": [
  {
   "cell_type": "code",
   "execution_count": 22,
   "id": "11eb7530",
   "metadata": {},
   "outputs": [
    {
     "name": "stdout",
     "output_type": "stream",
     "text": [
      "1505\n",
      "1540\n",
      "1575\n",
      "1610\n",
      "1645\n",
      "1680\n",
      "1715\n",
      "1750\n",
      "1785\n",
      "1820\n",
      "1855\n",
      "1890\n",
      "1925\n",
      "1960\n",
      "1995\n",
      "2030\n",
      "2065\n",
      "2100\n",
      "2135\n",
      "2170\n",
      "2205\n",
      "2240\n",
      "2275\n",
      "2310\n",
      "2345\n",
      "2380\n",
      "2415\n",
      "2450\n",
      "2485\n",
      "2520\n",
      "2555\n",
      "2590\n",
      "2625\n",
      "2660\n",
      "2695\n"
     ]
    }
   ],
   "source": [
    "# 1.\tWrite a Python program to find those numbers which are divisible by 7 and multiple of 5, between 1500 and 2700 (both included).\n",
    "for k in range(1500, 2700):\n",
    "    if (k%7==0):\n",
    "        if (k%5==0):\n",
    "            print (k)"
   ]
  },
  {
   "cell_type": "code",
   "execution_count": 24,
   "id": "1c6e65fe",
   "metadata": {},
   "outputs": [
    {
     "name": "stdout",
     "output_type": "stream",
     "text": [
      "Enter the first number 8\n",
      "Enter the sescond number 6\n",
      "14\n"
     ]
    }
   ],
   "source": [
    "#2.\tPython program to add two numbers\n",
    "a = int(input(\"Enter the first number \" ))\n",
    "b= int(input(\"Enter the sescond number \"))\n",
    "c = a+b\n",
    "print(c)"
   ]
  },
  {
   "cell_type": "code",
   "execution_count": 15,
   "id": "ec2fea28",
   "metadata": {},
   "outputs": [
    {
     "name": "stdout",
     "output_type": "stream",
     "text": [
      "Enter the first number 5\n",
      "Enter the sescond number 6\n",
      "Ther maximum number is  6\n"
     ]
    }
   ],
   "source": [
    "#3.\tMaximum of two numbers in Python\n",
    "a = int(input(\"Enter the first number \" ))\n",
    "b= int(input(\"Enter the sescond number \"))\n",
    "\n",
    "if (a>b):\n",
    "    print(\"Ther maximum number is \", a)\n",
    "print(\"Ther maximum number is \", b)\n"
   ]
  },
  {
   "cell_type": "code",
   "execution_count": 31,
   "id": "f080e0dc",
   "metadata": {},
   "outputs": [
    {
     "name": "stdout",
     "output_type": "stream",
     "text": [
      "Enter number to find factorial5\n",
      "factorial is 120\n"
     ]
    }
   ],
   "source": [
    "#4.\tPython Program for factorial of a number\n",
    "k = int(input(\"Enter number to find factorial\"))\n",
    "l = 1\n",
    "\n",
    "for i in range(1,k+1):\n",
    "    l=l*i\n",
    "    \n",
    "print(\"factorial is\",l)\n",
    "        \n",
    "    "
   ]
  },
  {
   "cell_type": "code",
   "execution_count": 34,
   "id": "9822c9c8",
   "metadata": {},
   "outputs": [
    {
     "name": "stdout",
     "output_type": "stream",
     "text": [
      "Enter the principal amount 100\n",
      "Enter the rate of interest in percentage 5\n",
      "Enter the time in years  5\n",
      "simple interest is  25.0\n"
     ]
    },
    {
     "data": {
      "text/plain": [
       "float"
      ]
     },
     "execution_count": 34,
     "metadata": {},
     "output_type": "execute_result"
    }
   ],
   "source": [
    "#5.\tPython Program for simple interest\n",
    "a = int(input(\"Enter the principal amount \" ))\n",
    "b = int(input(\"Enter the rate of interest in percentage \" ))\n",
    "c = int(input(\"Enter the time in years  \" ))\n",
    "simple_interest = (a*b*c)/100\n",
    "print(\"simple interest is \",simple_interest)\n",
    "type(simple_interest)"
   ]
  },
  {
   "cell_type": "code",
   "execution_count": 37,
   "id": "ddf3087c",
   "metadata": {},
   "outputs": [
    {
     "name": "stdout",
     "output_type": "stream",
     "text": [
      "Enter the principal amount 100\n",
      "Enter the rate of interest in percentage 5\n",
      "Enter the time in years  2\n",
      "compound interest is  10.25\n"
     ]
    }
   ],
   "source": [
    "#6.\tPython Program for compound interest\n",
    "a = float(input(\"Enter the principal amount \" ))\n",
    "b = float(input(\"Enter the rate of interest in percentage \" ))\n",
    "c = float(input(\"Enter the time in years  \" ))\n",
    "d = (1+(b/100))**c\n",
    "e = a*d\n",
    "f = e-a\n",
    "print(\"compound interest is \",f)"
   ]
  },
  {
   "cell_type": "code",
   "execution_count": 9,
   "id": "e3680c0b",
   "metadata": {},
   "outputs": [
    {
     "name": "stdout",
     "output_type": "stream",
     "text": [
      "Enter the principal amount 153\n",
      "The number is Armsrong\n"
     ]
    }
   ],
   "source": [
    "#7.\tPython Program to check Armstrong Number\n",
    "a = int(input(\"Enter the principal amount \" ))\n",
    "b = 0\n",
    "c = a\n",
    "while c>0:\n",
    "    d = c%10\n",
    "    b += d**3\n",
    "    c //=10\n",
    "    \n",
    "if a == b:\n",
    "    print('The number is Armsrong')\n",
    "else:\n",
    "    print('The number is not Armsrong')\n"
   ]
  },
  {
   "cell_type": "code",
   "execution_count": 7,
   "id": "129ab9c7",
   "metadata": {},
   "outputs": [
    {
     "name": "stdout",
     "output_type": "stream",
     "text": [
      "Enter the radius 153\n",
      "area of circle  73571.14285714286\n"
     ]
    }
   ],
   "source": [
    "#8.\tPython Program for Program to find area of a circle\\\n",
    "a = float(input(\"Enter the radius \" ))\n",
    "def area_circle(a):\n",
    "    x = (22/7)*a**2\n",
    "    return x\n",
    "print(\"area of circle \", area_circle(a))\n",
    "    \n",
    "    "
   ]
  },
  {
   "cell_type": "code",
   "execution_count": 47,
   "id": "51d69098",
   "metadata": {},
   "outputs": [
    {
     "name": "stdout",
     "output_type": "stream",
     "text": [
      "Enter the starting range 1\n",
      "Enter the last range 10\n",
      "2\n",
      "3\n",
      "5\n",
      "7\n"
     ]
    }
   ],
   "source": [
    "#9.\tPython program to print all Prime numbers in an Interval\n",
    "a = int(input(\"Enter the starting range \" ))\n",
    "b= int(input(\"Enter the last range \"))\n",
    "for k in range(a,b+1):\n",
    "    if (k>1):\n",
    "        for l in range(2,k):\n",
    "            if (k%l==0):\n",
    "                break\n",
    "        else:\n",
    "            print(k)  "
   ]
  },
  {
   "cell_type": "code",
   "execution_count": 58,
   "id": "88e65d5e",
   "metadata": {},
   "outputs": [
    {
     "name": "stdout",
     "output_type": "stream",
     "text": [
      "Enter the number 6\n",
      "6 is not prime\n"
     ]
    }
   ],
   "source": [
    "#10.\t Python program to check whether a number is Prime or not\n",
    "k = int(input(\"Enter the number \" ))\n",
    "if (k>1):\n",
    "        for l in range(2,k):\n",
    "            if (k%l==0):\n",
    "                print(k,\"is not prime\")\n",
    "                break\n",
    "            \n",
    "        else:\n",
    "            print(k,\" is prime \")"
   ]
  },
  {
   "cell_type": "code",
   "execution_count": null,
   "id": "d6a6615b",
   "metadata": {},
   "outputs": [],
   "source": []
  }
 ],
 "metadata": {
  "kernelspec": {
   "display_name": "Python 3 (ipykernel)",
   "language": "python",
   "name": "python3"
  },
  "language_info": {
   "codemirror_mode": {
    "name": "ipython",
    "version": 3
   },
   "file_extension": ".py",
   "mimetype": "text/x-python",
   "name": "python",
   "nbconvert_exporter": "python",
   "pygments_lexer": "ipython3",
   "version": "3.9.7"
  }
 },
 "nbformat": 4,
 "nbformat_minor": 5
}
