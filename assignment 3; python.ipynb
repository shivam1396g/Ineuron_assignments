{
 "cells": [
  {
   "cell_type": "code",
   "execution_count": 22,
   "id": "b4f65a45",
   "metadata": {},
   "outputs": [
    {
     "name": "stdout",
     "output_type": "stream",
     "text": [
      "array=  [8, 1, 1, 7, 8, 5, 9, 2, 2, 9]\n",
      "product of the array:  725760\n",
      "enter the number which is to be devided: 5\n",
      "reminder of array multiplication divided by 5 =  0\n"
     ]
    }
   ],
   "source": [
    "#Python Program for Find reminder of array multiplication divided by n\n",
    "import numpy as np\n",
    "x=[8,1,1,7,8,5,9,2,2,9]\n",
    "print(\"array= \",x)\n",
    "y=np.prod(x)\n",
    "print(\"product of the array: \",y)\n",
    "n=int(input(\"enter the number which is to be devided: \"))\n",
    "a=y%n\n",
    "print(\"reminder of array multiplication divided by\",n,\"= \",a)"
   ]
  },
  {
   "cell_type": "code",
   "execution_count": 27,
   "id": "429aa569",
   "metadata": {},
   "outputs": [
    {
     "name": "stdout",
     "output_type": "stream",
     "text": [
      "True\n"
     ]
    }
   ],
   "source": [
    "#Python Program to check if given array is Monotonic\n",
    "def ismonotonic(a):\n",
    "    return (all(a[i]<=a[i+1] for i in range(len(a)-1)) or\n",
    "            all(a[i]>=a[i+1] for i in range(len(a)-1)))\n",
    "a=[1,2,3,4,7,8]\n",
    "print(ismonotonic(a))"
   ]
  },
  {
   "cell_type": "code",
   "execution_count": 32,
   "id": "41ef5930",
   "metadata": {},
   "outputs": [
    {
     "name": "stdout",
     "output_type": "stream",
     "text": [
      "[6, 2, 3, 4, 5, 1]\n"
     ]
    }
   ],
   "source": [
    "#Python program to interchange first and last elements in a list\n",
    "\n",
    "def swap(a):\n",
    "    s=len(a)\n",
    "    n=a[0]\n",
    "    a[0]=a[-1]\n",
    "    a[-1]=n\n",
    "    return a\n",
    "a=[1,2,3,4,5,6]\n",
    "print(swap(a))\n",
    "    "
   ]
  },
  {
   "cell_type": "code",
   "execution_count": 34,
   "id": "61c5e9aa",
   "metadata": {},
   "outputs": [
    {
     "name": "stdout",
     "output_type": "stream",
     "text": [
      "array=  [1, 2, 3, 4, 5, 6]\n",
      "enter the first position: 1\n",
      "enter the second position: 3\n",
      "[3, 2, 1, 4, 5, 6]\n"
     ]
    }
   ],
   "source": [
    "#Python program to swap two elements in a list\n",
    "def swap(a):\n",
    "    n=a[n1-1]\n",
    "    a[n1-1]=a[n2-1]\n",
    "    a[n2-1]=n\n",
    "    return a\n",
    "a=[1,2,3,4,5,6]\n",
    "print(\"array= \",a)\n",
    "n1=int(input(\"enter the first position: \"))\n",
    "n2=int(input(\"enter the second position: \"))\n",
    "print(swap(a))"
   ]
  },
  {
   "cell_type": "code",
   "execution_count": 41,
   "id": "82f171e0",
   "metadata": {},
   "outputs": [
    {
     "name": "stdout",
     "output_type": "stream",
     "text": [
      "length of the list=  9\n"
     ]
    }
   ],
   "source": [
    "#write a program to find length of list\n",
    "a1=[1,2,3,4,5,6,7,8,9]\n",
    "l=len(a1)\n",
    "print(\"length of the list= \",l)\n"
   ]
  },
  {
   "cell_type": "code",
   "execution_count": 59,
   "id": "5b306e31",
   "metadata": {},
   "outputs": [
    {
     "name": "stdout",
     "output_type": "stream",
     "text": [
      "enter the number to check: 55\n",
      "Element  55  does not Exists in the list\n"
     ]
    }
   ],
   "source": [
    "#write a program to check if element exists in list\n",
    "a=[1,2,3,4,5,6,7,8,9]\n",
    "n=int(input(\"enter the number to check: \"))\n",
    "if n in a:\n",
    "        print (\"Element \",n,\" Exists in the list\")\n",
    "else:\n",
    "        print(\"Element \",n,\" does not Exists in the list\")\n",
    " "
   ]
  },
  {
   "cell_type": "code",
   "execution_count": 60,
   "id": "9bb5ac52",
   "metadata": {},
   "outputs": [
    {
     "name": "stdout",
     "output_type": "stream",
     "text": [
      "list before clear:  [1, 2, 3, 4, 5, 6, 7, 8, 9]\n",
      "list after clear:  []\n"
     ]
    }
   ],
   "source": [
    "#write a program to clear a list in Python\n",
    "a=[1,2,3,4,5,6,7,8,9]\n",
    "print(\"list before clear: \",a)\n",
    "a.clear()\n",
    "print(\"list after clear: \",a)"
   ]
  },
  {
   "cell_type": "code",
   "execution_count": 62,
   "id": "f736c3ad",
   "metadata": {},
   "outputs": [
    {
     "name": "stdout",
     "output_type": "stream",
     "text": [
      "list before clear:  [1, 2, 3, 4, 5, 6, 7, 8, 9]\n",
      "list after clear:  [9, 8, 7, 6, 5, 4, 3, 2, 1]\n"
     ]
    }
   ],
   "source": [
    "#write a program to Reversing a List\n",
    "a=[1,2,3,4,5,6,7,8,9]\n",
    "print(\"original list: \",a)\n",
    "a.reverse()\n",
    "print(\"list after reversing: \",a)"
   ]
  },
  {
   "cell_type": "code",
   "execution_count": 65,
   "id": "6c61f399",
   "metadata": {},
   "outputs": [
    {
     "name": "stdout",
     "output_type": "stream",
     "text": [
      "original list:  [1, 2, 3, 4, 5, 6, 7, 8, 9]\n",
      "sum of the list:  45\n"
     ]
    }
   ],
   "source": [
    "#write a program to find sum of elements in list\n",
    "a=[1,2,3,4,5,6,7,8,9]\n",
    "print(\"original list: \",a)\n",
    "print(\"sum of the list: \",sum(a))"
   ]
  },
  {
   "cell_type": "code",
   "execution_count": 66,
   "id": "d5659f42",
   "metadata": {},
   "outputs": [
    {
     "name": "stdout",
     "output_type": "stream",
     "text": [
      "list=  [8, 1, 1, 7, 8, 5, 9, 2, 2, 9]\n",
      "product of the list:  725760\n"
     ]
    }
   ],
   "source": [
    "#write a program to Multiply all numbers in the list\n",
    "import numpy as np\n",
    "x=[8,1,1,7,8,5,9,2,2,9]\n",
    "print(\"list= \",x)\n",
    "y=np.prod(x)\n",
    "print(\"product of the list: \",y)"
   ]
  },
  {
   "cell_type": "code",
   "execution_count": null,
   "id": "3c874167",
   "metadata": {},
   "outputs": [],
   "source": []
  }
 ],
 "metadata": {
  "kernelspec": {
   "display_name": "Python 3 (ipykernel)",
   "language": "python",
   "name": "python3"
  },
  "language_info": {
   "codemirror_mode": {
    "name": "ipython",
    "version": 3
   },
   "file_extension": ".py",
   "mimetype": "text/x-python",
   "name": "python",
   "nbconvert_exporter": "python",
   "pygments_lexer": "ipython3",
   "version": "3.9.7"
  }
 },
 "nbformat": 4,
 "nbformat_minor": 5
}
