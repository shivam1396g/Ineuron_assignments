{
 "cells": [
  {
   "cell_type": "code",
   "execution_count": 7,
   "id": "b7f44ea9",
   "metadata": {},
   "outputs": [
    {
     "name": "stdout",
     "output_type": "stream",
     "text": [
      "enter the size of the row: 5\n",
      "enter the size of the column: 5\n",
      "array1=  [[22 92 38 65  1]\n",
      " [ 7 25 16 25 29]\n",
      " [ 8 23 17 12 15]\n",
      " [14 66 66 41 77]\n",
      " [ 1 16 31  5 82]]\n",
      "array2=  [[16 88 50 85 63]\n",
      " [ 4 64 96  1 31]\n",
      " [41 14  0  0 21]\n",
      " [78 96 74  2 72]\n",
      " [41 14 56 60 88]]\n",
      "sum=  [[ 38 180  88 150  64]\n",
      " [ 11  89 112  26  60]\n",
      " [ 49  37  17  12  36]\n",
      " [ 92 162 140  43 149]\n",
      " [ 42  30  87  65 170]]\n"
     ]
    }
   ],
   "source": [
    "#add two matrix\n",
    "import numpy as np\n",
    "x=int(input(\"enter the size of the row: \"))\n",
    "y=int(input(\"enter the size of the column: \"))\n",
    "arr1=np.random.randint(100,size=(x,y))\n",
    "print(\"array1= \",arr1)\n",
    "arr2=np.random.randint(100,size=(x,y))\n",
    "print(\"array2= \",arr2)\n",
    "\n",
    "sum=arr1+arr2\n",
    "print (\"sum= \",sum)"
   ]
  },
  {
   "cell_type": "code",
   "execution_count": 8,
   "id": "80751a9c",
   "metadata": {},
   "outputs": [
    {
     "name": "stdout",
     "output_type": "stream",
     "text": [
      "enter the size of the row: 5\n",
      "enter the size of the column: 4\n",
      "matrix a=  [[12  3 13 53]\n",
      " [87 88 38 33]\n",
      " [30 80 19 98]\n",
      " [ 3 95 38  6]\n",
      " [80 54 86 20]]\n",
      "matrix b=  [[83 69 50 59]\n",
      " [88 62 82  7]\n",
      " [ 9 81 66 89]\n",
      " [16 91 62 91]\n",
      " [56 75 77 11]]\n",
      "multiplication of two matrix= [[ 996  207  650 3127]\n",
      " [7656 5456 3116  231]\n",
      " [ 270 6480 1254 8722]\n",
      " [  48 8645 2356  546]\n",
      " [4480 4050 6622  220]]\n"
     ]
    }
   ],
   "source": [
    "#multiply two matrices\n",
    "\n",
    "import numpy as np\n",
    "x=int(input(\"enter the size of the row: \"))\n",
    "y=int(input(\"enter the size of the column: \"))\n",
    "a=np.random.randint(100,size=(x,y))\n",
    "b=np.random.randint(100,size=(x,y))\n",
    "print (\"matrix a= \",a)\n",
    "print(\"matrix b= \",b)\n",
    "mul=a*b\n",
    "print (\"multiplication of two matrix=\",mul)\n"
   ]
  },
  {
   "cell_type": "code",
   "execution_count": null,
   "id": "4ebc39d3",
   "metadata": {},
   "outputs": [],
   "source": []
  },
  {
   "cell_type": "code",
   "execution_count": 13,
   "id": "6768fa98",
   "metadata": {},
   "outputs": [
    {
     "name": "stdout",
     "output_type": "stream",
     "text": [
      "enter the size of the row: 5\n",
      "enter the size of the column: 5\n",
      "matrix a=  [[85 59 54 56 16]\n",
      " [30 78 38 17 26]\n",
      " [59 88 18 24  0]\n",
      " [15 89  2 11 33]\n",
      " [46 68 74 61 44]]\n",
      "transpose of the matrix a:  [[85 30 59 15 46]\n",
      " [59 78 88 89 68]\n",
      " [54 38 18  2 74]\n",
      " [56 17 24 11 61]\n",
      " [16 26  0 33 44]]\n",
      "matrix b=  [[40 77 60 13  3]\n",
      " [31 26 21 67 49]\n",
      " [90 74 98  2 21]\n",
      " [11 49 11 20 26]\n",
      " [ 7 12  1 51 14]]\n",
      "transpose of the matrix b:  [[40 31 90 11  7]\n",
      " [77 26 74 49 12]\n",
      " [60 21 98 11  1]\n",
      " [13 67  2 20 51]\n",
      " [ 3 49 21 26 14]]\n"
     ]
    }
   ],
   "source": [
    "#transpose of two matrix\n",
    "import numpy as np\n",
    "x=int(input(\"enter the size of the row: \"))\n",
    "y=int(input(\"enter the size of the column: \"))\n",
    "a=np.random.randint(100,size=(x,y))\n",
    "b=np.random.randint(100,size=(x,y))\n",
    "print (\"matrix a= \",a)\n",
    "print(\"transpose of the matrix a: \",a.T)\n",
    "print (\"matrix b= \",b)\n",
    "print(\"transpose of the matrix b: \",b.T)\n",
    "\n"
   ]
  },
  {
   "cell_type": "code",
   "execution_count": 14,
   "id": "086959a0",
   "metadata": {},
   "outputs": [
    {
     "name": "stdout",
     "output_type": "stream",
     "text": [
      "enter the size of the row: 5\n",
      "enter the size of the column: 5\n",
      "matrix=  [[42 66 86 75  2]\n",
      " [39 16 64 65 65]\n",
      " [55 39 47  5 97]\n",
      " [31  4 10 99 54]\n",
      " [63 61 73 43 33]]\n",
      "enter the kth column: 0\n",
      "the 0 th column=  [42 39 55 31 63]\n"
     ]
    }
   ],
   "source": [
    "#get kth column of a matrix\n",
    "import numpy as np\n",
    "x=int(input(\"enter the size of the row: \"))\n",
    "y=int(input(\"enter the size of the column: \"))\n",
    "a=np.random.randint(100,size=(x,y))\n",
    "print (\"matrix= \",a)\n",
    "k=int(input(\"enter the kth column: \"))\n",
    "print(\"the\",k,\"th column= \",a[:,k])\n"
   ]
  },
  {
   "cell_type": "code",
   "execution_count": 15,
   "id": "eed903f9",
   "metadata": {},
   "outputs": [
    {
     "name": "stdout",
     "output_type": "stream",
     "text": [
      "asdasd\n",
      "The entered string is not palindrome\n",
      "The entered string is symmetrical\n"
     ]
    }
   ],
   "source": [
    "#check weather the string is symetric or palindrome\n",
    "def palindrome(a):\n",
    "    mid=(len(a)-1)//2\n",
    "    start=0                \n",
    "    last=len(a)-1\n",
    "    flag=0\n",
    "    while(start<=mid):       \n",
    "        if(a[start]==a[last]):             \n",
    "            start+=1\n",
    "            last-=1             \n",
    "        else:\n",
    "            flag=1\n",
    "            break;    \n",
    "    if flag == 0:\n",
    "        print(\"The entered string is palindrome\")\n",
    "    else:\n",
    "        print(\"The entered string is not palindrome\")\n",
    "            \n",
    "def symmetry(a):     \n",
    "    n=len(a)\n",
    "    flag=0     \n",
    "    if n%2:\n",
    "        mid=n//2+1\n",
    "    else:\n",
    "        mid=n//2         \n",
    "    start1=0\n",
    "    start2=mid     \n",
    "    while(start1<mid and start2<n):         \n",
    "        if (a[start1]== a[start2]):\n",
    "            start1=start1+1\n",
    "            start2=start2+1\n",
    "        else:\n",
    "            flag=1\n",
    "            break      \n",
    "    if flag==0:\n",
    "        print(\"The entered string is symmetrical\")\n",
    "    else:\n",
    "        print(\"The entered string is not symmetrical\")         \n",
    "string=input()\n",
    "palindrome(string)\n",
    "symmetry(string)"
   ]
  },
  {
   "cell_type": "code",
   "execution_count": null,
   "id": "4c84bc35",
   "metadata": {},
   "outputs": [],
   "source": []
  }
 ],
 "metadata": {
  "kernelspec": {
   "display_name": "Python 3 (ipykernel)",
   "language": "python",
   "name": "python3"
  },
  "language_info": {
   "codemirror_mode": {
    "name": "ipython",
    "version": 3
   },
   "file_extension": ".py",
   "mimetype": "text/x-python",
   "name": "python",
   "nbconvert_exporter": "python",
   "pygments_lexer": "ipython3",
   "version": "3.9.7"
  }
 },
 "nbformat": 4,
 "nbformat_minor": 5
}
