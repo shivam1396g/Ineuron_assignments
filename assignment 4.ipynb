{
 "cells": [
  {
   "cell_type": "code",
   "execution_count": 2,
   "id": "ef18985f",
   "metadata": {},
   "outputs": [
    {
     "name": "stdout",
     "output_type": "stream",
     "text": [
      "list=  [8, 1, 1, 7, 8, 5, 9, 2, 2, 9]\n",
      "smallest number in the list:  1\n"
     ]
    }
   ],
   "source": [
    "#Python program to find smallest number in a list\n",
    "import numpy as np\n",
    "x=[8,1,1,7,8,5,9,2,2,9]\n",
    "print(\"list= \",x)\n",
    "y=np.min(x)\n",
    "print(\"smallest number in the list: \",y)"
   ]
  },
  {
   "cell_type": "code",
   "execution_count": 4,
   "id": "cbac4d94",
   "metadata": {},
   "outputs": [
    {
     "name": "stdout",
     "output_type": "stream",
     "text": [
      "list=  [8, 1, 1, 7, 8, 5, 9, 2, 2, 9]\n",
      "largest number in the list:  9\n"
     ]
    }
   ],
   "source": [
    "#Python program to find largest number in a list\n",
    "import numpy as np\n",
    "x=[8,1,1,7,8,5,9,2,2,9]\n",
    "print(\"list= \",x)\n",
    "y=np.max(x)\n",
    "print(\"largest number in the list: \",y)"
   ]
  },
  {
   "cell_type": "code",
   "execution_count": 20,
   "id": "c9f685d0",
   "metadata": {},
   "outputs": [
    {
     "name": "stdout",
     "output_type": "stream",
     "text": [
      "list:  [8, 1, 1, 7, 8, 5, 9, 2, 2, 9]\n",
      "the second largest number in the list is:  8\n"
     ]
    }
   ],
   "source": [
    "#Python program to find second largest number in a list\n",
    "\n",
    "x=[8,1,1,7,8,5,9,2,2,9]\n",
    "print(\"list: \",x)\n",
    "y=np.unique(x)\n",
    "print(\"the second largest number in the list is: \",y[-2])\n"
   ]
  },
  {
   "cell_type": "code",
   "execution_count": 28,
   "id": "f1f7aa21",
   "metadata": {},
   "outputs": [
    {
     "name": "stdout",
     "output_type": "stream",
     "text": [
      "list:  [8, 1, 1, 7, 8, 5, 9, 2, 2, 9]\n",
      "[1 2 5 7 8 9]\n",
      "enter the nth number: 8\n"
     ]
    }
   ],
   "source": [
    "#Python program to find N largest elements from a list\n",
    "x=[8,1,1,7,8,5,9,2,2,9]\n",
    "print(\"list: \",x)\n",
    "y=np.unique(x)\n",
    "print(y)\n",
    "l=len(y)\n",
    "n=int(input(\"enter the nth number: \"))\n",
    "if(n<=l):\n",
    "    print(\"the second largest number in the list is: \",y[l-n])\n"
   ]
  },
  {
   "cell_type": "code",
   "execution_count": 31,
   "id": "06120bb1",
   "metadata": {},
   "outputs": [
    {
     "name": "stdout",
     "output_type": "stream",
     "text": [
      "8 8 2 2 "
     ]
    }
   ],
   "source": [
    "#Python program to print even numbers in a list\n",
    "x=[8,1,1,7,8,5,9,2,2,9]\n",
    "for i in x:\n",
    "    if i%2==0:\n",
    "        print(i,end=\" \")"
   ]
  },
  {
   "cell_type": "code",
   "execution_count": 32,
   "id": "592e3e64",
   "metadata": {},
   "outputs": [
    {
     "name": "stdout",
     "output_type": "stream",
     "text": [
      "1 1 7 5 9 9 "
     ]
    }
   ],
   "source": [
    "#Python program to print odd numbers in a List\n",
    "x=[8,1,1,7,8,5,9,2,2,9]\n",
    "for i in x:\n",
    "    if i%2!=0:\n",
    "        print(i,end=\" \")"
   ]
  },
  {
   "cell_type": "code",
   "execution_count": 37,
   "id": "4702f252",
   "metadata": {},
   "outputs": [
    {
     "name": "stdout",
     "output_type": "stream",
     "text": [
      "enter the start of the range: 1\n",
      "enter the end of the range: 100\n",
      "2 4 6 8 10 12 14 16 18 20 22 24 26 28 30 32 34 36 38 40 42 44 46 48 50 52 54 56 58 60 62 64 66 68 70 72 74 76 78 80 82 84 86 88 90 92 94 96 98 100 "
     ]
    }
   ],
   "source": [
    "#Python program to print all even numbers in a range\n",
    "a=int(input (\"enter the start of the range: \"))\n",
    "b=int(input (\"enter the end of the range: \"))\n",
    "for i in range(a,b+1):\n",
    "    if i%2==0:\n",
    "        print(i,end = \" \")"
   ]
  },
  {
   "cell_type": "code",
   "execution_count": 38,
   "id": "600f66e2",
   "metadata": {},
   "outputs": [
    {
     "name": "stdout",
     "output_type": "stream",
     "text": [
      "enter the start of the range: 5\n",
      "enter the end of the range: 15\n",
      "5 7 9 11 13 15 "
     ]
    }
   ],
   "source": [
    "#Python program to print all odd numbers in a range\n",
    "a=int(input (\"enter the start of the range: \"))\n",
    "b=int(input (\"enter the end of the range: \"))\n",
    "for i in range(a,b+1):\n",
    "    if i%2!=0:\n",
    "        print(i,end = \" \")"
   ]
  },
  {
   "cell_type": "code",
   "execution_count": 41,
   "id": "c5d9c97a",
   "metadata": {},
   "outputs": [
    {
     "name": "stdout",
     "output_type": "stream",
     "text": [
      "8 1 7 8 5 9 2 2 9 "
     ]
    }
   ],
   "source": [
    "#Python program to print positive numbers in a list\n",
    "x=[8,1,-69,7,8,5,9,2,2,9]\n",
    "for i in x:\n",
    "    if i>0:\n",
    "        print(i,end=\" \")"
   ]
  },
  {
   "cell_type": "code",
   "execution_count": 43,
   "id": "0d2ffeb9",
   "metadata": {},
   "outputs": [
    {
     "name": "stdout",
     "output_type": "stream",
     "text": [
      "-69 "
     ]
    }
   ],
   "source": [
    "#Python program to print negative numbers in a list\n",
    "x=[8,1,-69,7,8,5,9,2,2,9]\n",
    "for i in x:\n",
    "    if i<0:\n",
    "        print(i,end=\" \")"
   ]
  },
  {
   "cell_type": "code",
   "execution_count": 44,
   "id": "3824080e",
   "metadata": {},
   "outputs": [
    {
     "name": "stdout",
     "output_type": "stream",
     "text": [
      "enter the start of the range: -69\n",
      "enter the end of the range: 4\n",
      "1 2 3 4 "
     ]
    }
   ],
   "source": [
    "#Python program to print all positive numbers in a range\n",
    "a=int(input (\"enter the start of the range: \"))\n",
    "b=int(input (\"enter the end of the range: \"))\n",
    "for i in range(a,b+1):\n",
    "    if i>0:\n",
    "        print(i,end = \" \")"
   ]
  },
  {
   "cell_type": "code",
   "execution_count": null,
   "id": "6641abe1",
   "metadata": {},
   "outputs": [],
   "source": []
  }
 ],
 "metadata": {
  "kernelspec": {
   "display_name": "Python 3 (ipykernel)",
   "language": "python",
   "name": "python3"
  },
  "language_info": {
   "codemirror_mode": {
    "name": "ipython",
    "version": 3
   },
   "file_extension": ".py",
   "mimetype": "text/x-python",
   "name": "python",
   "nbconvert_exporter": "python",
   "pygments_lexer": "ipython3",
   "version": "3.9.7"
  }
 },
 "nbformat": 4,
 "nbformat_minor": 5
}
