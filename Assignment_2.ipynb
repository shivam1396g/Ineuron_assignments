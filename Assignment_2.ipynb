{
 "cells": [
  {
   "cell_type": "code",
   "execution_count": 30,
   "id": "66de68db",
   "metadata": {},
   "outputs": [],
   "source": [
    "import numpy as np"
   ]
  },
  {
   "cell_type": "code",
   "execution_count": 1,
   "id": "a3c6c6c6",
   "metadata": {},
   "outputs": [
    {
     "name": "stdout",
     "output_type": "stream",
     "text": [
      "Enter the no to find nth fibonacci 5\n",
      "0\n",
      "1\n",
      "1\n",
      "2\n",
      "3\n"
     ]
    }
   ],
   "source": [
    "#1. Python Program for n-th Fibonacci number\n",
    "x = int(input(\"Enter the no to find nth fibonacci \"))\n",
    "k = 0\n",
    "l = 1\n",
    "for i in range(1,x+1):\n",
    "    print(k)\n",
    "    n = k+l\n",
    "    k=l\n",
    "    l=n\n",
    "    "
   ]
  },
  {
   "cell_type": "code",
   "execution_count": 2,
   "id": "ca854d03",
   "metadata": {},
   "outputs": [
    {
     "name": "stdout",
     "output_type": "stream",
     "text": [
      "Enter the no to check fibonacci 1\n",
      "Yes\n"
     ]
    }
   ],
   "source": [
    "#2. Python Program for How to check if a given number is Fibonacci number?\n",
    "# this is the no which will be checked\n",
    "x = int(input(\"Enter the no to check fibonacci \"))\n",
    "c=0\n",
    "a=1\n",
    "b=1\n",
    "if x==0 or x==1:\n",
    "    print(\"Yes\")\n",
    "else:\n",
    "    while c<x:\n",
    "        c=a+b\n",
    "        b=a\n",
    "        a=c\n",
    "    if c==x:\n",
    "        print(\"Yes\")\n",
    "    else:\n",
    "        print(\"No\")        "
   ]
  },
  {
   "cell_type": "code",
   "execution_count": 23,
   "id": "c0d69d47",
   "metadata": {},
   "outputs": [
    {
     "name": "stdout",
     "output_type": "stream",
     "text": [
      "Position of 3 th multiple of 4 in Fibonacci Series is 18\n"
     ]
    }
   ],
   "source": [
    "#3. Python Program for n\\’th multiple of a number in Fibonacci Series\n",
    "def findPosition(k, n):\n",
    "    f1 = 0\n",
    "    f2 = 1\n",
    "    i =2;\n",
    "    while i!=0:\n",
    "        f3 = f1 + f2;\n",
    "        f1 = f2;\n",
    "        f2 = f3;\n",
    " \n",
    "        if f2%k == 0:\n",
    "            return n*i\n",
    " \n",
    "        i+=1\n",
    "         \n",
    "    return\n",
    "n = 3\n",
    "k = 4\n",
    " \n",
    "print(\"Position of\",n,\"th multiple of\",k,\"in \"\n",
    "                \"Fibonacci Series is\", findPosition(k,n));"
   ]
  },
  {
   "cell_type": "code",
   "execution_count": 4,
   "id": "bb15253b",
   "metadata": {},
   "outputs": [
    {
     "name": "stdout",
     "output_type": "stream",
     "text": [
      "Enter alphabet to find asci valueh\n",
      "The ASCII value of 'h' is 104\n"
     ]
    }
   ],
   "source": [
    "#4. Program to print ASCII Value of a character\n",
    "r = str(input(\"Enter alphabet to find asci value\"))\n",
    "print(\"The ASCII value of '\" + r + \"' is\", ord(r))"
   ]
  },
  {
   "cell_type": "code",
   "execution_count": 5,
   "id": "487afec1",
   "metadata": {},
   "outputs": [
    {
     "name": "stdout",
     "output_type": "stream",
     "text": [
      "enter the number upto which square is to be found :6\n",
      "91\n"
     ]
    }
   ],
   "source": [
    "#5. Python Program for Sum of squares of first n natural numbers\n",
    "r = int(input(\"enter the number upto which square is to be found :\"))\n",
    "sum = 0\n",
    "for i in range(1,r+1):\n",
    "    sum += i**2\n",
    "print(sum)"
   ]
  },
  {
   "cell_type": "code",
   "execution_count": 6,
   "id": "9a605da4",
   "metadata": {},
   "outputs": [
    {
     "name": "stdout",
     "output_type": "stream",
     "text": [
      "enter the number upto which cube is required :8\n",
      "1296\n"
     ]
    }
   ],
   "source": [
    "#6. Python Program for cube sum of first n natural numbers\n",
    "r = int(input(\"enter the number upto which cube is required :\"))\n",
    "sum = 0\n",
    "for i in range(1,r+1):\n",
    "    sum += i**3\n",
    "print(sum)"
   ]
  },
  {
   "cell_type": "code",
   "execution_count": 31,
   "id": "11458ae8",
   "metadata": {},
   "outputs": [
    {
     "name": "stdout",
     "output_type": "stream",
     "text": [
      "Enter the number of elements : 2\n",
      "1\n",
      "2\n",
      "The sum of elements in given arrar is : 3\n"
     ]
    }
   ],
   "source": [
    "#7. Python Program to find sum of array\n",
    "list1 = []\n",
    "n = int(input(\"Enter the number of elements : \"))\n",
    "for i in range(0, n):\n",
    "    elements = int(input())\n",
    " \n",
    "    list1.append(elements)\n",
    "     \n",
    "sumele = np.sum(list1)\n",
    "print('The sum of elements in given arrar is :',sumele)\n"
   ]
  },
  {
   "cell_type": "code",
   "execution_count": 32,
   "id": "bdbeb333",
   "metadata": {},
   "outputs": [
    {
     "name": "stdout",
     "output_type": "stream",
     "text": [
      "Enter the number of elements : 5\n",
      "8\n",
      "6\n",
      "4\n",
      "7\n",
      "9\n",
      "Largest element is : 9\n"
     ]
    }
   ],
   "source": [
    "#8. Python Program to find largest element in an array\n",
    "list1 = []\n",
    "n = int(input(\"Enter the number of elements : \"))\n",
    "for i in range(0, n):\n",
    "    elements = int(input())\n",
    " \n",
    "    list1.append(elements)\n",
    "largest = np.max(list1)\n",
    "print(\"Largest element is :\",largest)"
   ]
  },
  {
   "cell_type": "code",
   "execution_count": 36,
   "id": "a8907a02",
   "metadata": {},
   "outputs": [
    {
     "name": "stdout",
     "output_type": "stream",
     "text": [
      "Enter the number of elements : 5\n",
      "4\n",
      "6\n",
      "8\n",
      "9\n",
      "7\n",
      "[4, 6, 8, 9, 7]\n",
      "[4, 6, 8, 9, 7]\n",
      "Enter the rotation number : 2\n",
      "[8, 9, 7, 4, 6]\n"
     ]
    }
   ],
   "source": [
    "#9. Python Program for array rotation\n",
    "list1 = []\n",
    "n = int(input(\"Enter the number of elements : \"))\n",
    "for i in range(0, n):\n",
    "    elements = int(input())\n",
    " \n",
    "    list1.append(elements)\n",
    "print(list1)\n",
    "x=int(input(\"Enter the rotation number : \"))\n",
    "list1 [:] = list1 [x:n] + list1 [0:x]\n",
    "print(\"Array rotation with\",x,'is',list1)"
   ]
  },
  {
   "cell_type": "code",
   "execution_count": 39,
   "id": "771fc6c0",
   "metadata": {},
   "outputs": [
    {
     "name": "stdout",
     "output_type": "stream",
     "text": [
      "Enter the number of elements : 5\n",
      "8\n",
      "9\n",
      "7\n",
      "4\n",
      "6\n",
      "[8, 9, 7, 4, 6]\n",
      "Enter the rotation number : 2\n",
      "Array rotation reversal with 2 is [4, 6, 8, 9, 7]\n"
     ]
    }
   ],
   "source": [
    "#10. Python Program for Reversal algorithm for array rotation\n",
    "list1 = []\n",
    "n = int(input(\"Enter the number of elements : \"))\n",
    "for i in range(0, n):\n",
    "    elements = int(input())\n",
    " \n",
    "    list1.append(elements)\n",
    "print(list1)\n",
    "x=int(input(\"Enter the rotation number : \"))\n",
    "y = len(list1)-x\n",
    "list1 [:] = list1 [y:n] + list1 [0:y] \n",
    "print(\"Array rotation reversal with\",x,'is',list1)"
   ]
  },
  {
   "cell_type": "code",
   "execution_count": 53,
   "id": "fe88f300",
   "metadata": {},
   "outputs": [
    {
     "name": "stdout",
     "output_type": "stream",
     "text": [
      "Enter the number of elements (must be even) : 6\n",
      "7\n",
      "8\n",
      "9\n",
      "5\n",
      "4\n",
      "6\n",
      "[7, 8, 9, 5, 4, 6]\n",
      "Array rotation reversal with 2 is [5, 4, 6, 7, 8, 9]\n"
     ]
    }
   ],
   "source": [
    "#11. Python Program to Split the array and add the first part to the end\n",
    "list1 = []\n",
    "n = int(input(\"Enter the number of elements (must be even) : \"))\n",
    "for i in range(0, n):\n",
    "    elements = int(input())\n",
    " \n",
    "    list1.append(elements)\n",
    "print(list1)\n",
    "y = int(len(list1)/2)\n",
    "list1 [:] = list1 [y:n] + list1 [0:y] \n",
    "print(\"Array rotation reversal with\",x,'is',list1)"
   ]
  },
  {
   "cell_type": "code",
   "execution_count": null,
   "id": "601393e1",
   "metadata": {},
   "outputs": [],
   "source": [
    "#write a Python program to Break a list into chunks of size N\n"
   ]
  },
  {
   "cell_type": "code",
   "execution_count": null,
   "id": "391d7194",
   "metadata": {},
   "outputs": [],
   "source": []
  }
 ],
 "metadata": {
  "kernelspec": {
   "display_name": "Python 3 (ipykernel)",
   "language": "python",
   "name": "python3"
  },
  "language_info": {
   "codemirror_mode": {
    "name": "ipython",
    "version": 3
   },
   "file_extension": ".py",
   "mimetype": "text/x-python",
   "name": "python",
   "nbconvert_exporter": "python",
   "pygments_lexer": "ipython3",
   "version": "3.9.7"
  }
 },
 "nbformat": 4,
 "nbformat_minor": 5
}
