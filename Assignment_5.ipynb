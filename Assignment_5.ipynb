{
 "cells": [
  {
   "cell_type": "markdown",
   "id": "ba60627e",
   "metadata": {},
   "source": [
    "# **ASSIGNMENT 5**"
   ]
  },
  {
   "cell_type": "code",
   "execution_count": 11,
   "id": "3ac6f4eb",
   "metadata": {},
   "outputs": [],
   "source": [
    "import numpy as np"
   ]
  },
  {
   "cell_type": "code",
   "execution_count": 2,
   "id": "32710360",
   "metadata": {},
   "outputs": [
    {
     "name": "stdout",
     "output_type": "stream",
     "text": [
      "enter the start value -9\n",
      "enter the end value -1\n",
      "-9 -8 -7 -6 -5 -4 -3 -2 -1 "
     ]
    }
   ],
   "source": [
    "##Python program to print all negative numbers in a range\n",
    "x=int (input  (\"enter the start value \"))\n",
    "y=int (input (\"enter the end value \"))\n",
    "\n",
    "for i in range (x,y+1):\n",
    "    if i<0: print(i,end=\" \")\n",
    "        \n",
    "    else: break\n"
   ]
  },
  {
   "cell_type": "code",
   "execution_count": 36,
   "id": "a2201d4d",
   "metadata": {},
   "outputs": [
    {
     "name": "stdout",
     "output_type": "stream",
     "text": [
      "Enter the number of elements : 5\n",
      "1\n",
      "2\n",
      "3\n",
      "4\n",
      "5\n",
      "Input list : [1, 2, 3, 4, 5]\n",
      "Enter the number of elements to be deleted : 3\n",
      "1\n",
      "2\n",
      "3\n",
      "Deletetion list  [1, 2, 3]\n",
      "Deleted list  [4, 5]\n"
     ]
    }
   ],
   "source": [
    "#Remove multiple elements from a list in Python\n",
    "list1 = []\n",
    "list2 = []\n",
    "n = int(input(\"Enter the number of elements : \"))\n",
    "for i in range(0, n):\n",
    "    ele1 = int(input())\n",
    "    list1.append(ele1)\n",
    "print('Input list :', list1)\n",
    "x = int(input(\"Enter the number of elements to be deleted : \"))\n",
    "for j in range(0, x):\n",
    "    ele2 = int(input())\n",
    "    list2.append(ele2)\n",
    "list1 = [ele for ele in list1 if ele not in list2]\n",
    "print(\"Deletetion list \",list2)\n",
    "print(\"Deleted list \",list1)"
   ]
  },
  {
   "cell_type": "code",
   "execution_count": 48,
   "id": "7585e80c",
   "metadata": {},
   "outputs": [
    {
     "name": "stdout",
     "output_type": "stream",
     "text": [
      "The input list is [6, [], 3, [], [], 9]\n",
      "List after empty list removal :  [6, 3, 9]\n"
     ]
    }
   ],
   "source": [
    "#write a Python program to Remove empty List from List\n",
    "samplelist = [6, [], 3, [], [], 9]\n",
    "type(samplelist)\n",
    "print(\"The input list is\",samplelist)\n",
    "samplelist = [x for x in samplelist if x]\n",
    "print(\"List after empty list removal : \",samplelist)"
   ]
  },
  {
   "cell_type": "code",
   "execution_count": 49,
   "id": "0f8de388",
   "metadata": {},
   "outputs": [
    {
     "name": "stdout",
     "output_type": "stream",
     "text": [
      "Original List: [4, 8, 2, 10, 15, 18]\n",
      "After Cloning: [4, 8, 2, 10, 15, 18]\n"
     ]
    }
   ],
   "source": [
    "#write a Python program to Cloning or Copying a list\n",
    "def Cloning(li1):\n",
    "    li_copy = li1[:]\n",
    "    return li_copy\n",
    "li1 = [4, 8, 2, 10, 15, 18]\n",
    "li2 = Cloning(li1)\n",
    "print(\"Original List:\", li1)\n",
    "print(\"After Cloning:\", li2)"
   ]
  },
  {
   "cell_type": "code",
   "execution_count": 52,
   "id": "12aee13a",
   "metadata": {},
   "outputs": [
    {
     "name": "stdout",
     "output_type": "stream",
     "text": [
      "Enter the number of elements : 5\n",
      "8\n",
      "4\n",
      "2\n",
      "1\n",
      "2\n",
      "Enter the element to check occurence of : 1\n",
      "The no times 1 occurs in list is : 3\n"
     ]
    }
   ],
   "source": [
    "#write a Python program to Count occurrences of an element in a list\n",
    "n = int(input(\"Enter the number of elements : \"))\n",
    "for i in range(0, n):\n",
    "    ele1 = int(input())\n",
    "    list1.append(ele1)\n",
    "m = int(input(\"Enter the element to check occurence of : \"))\n",
    "count = 0\n",
    "for ele in list1:\n",
    "    if m == ele:\n",
    "        count = count+1\n",
    "print(\"The no times\",m,'occurs in list is :',count)\n"
   ]
  },
  {
   "cell_type": "code",
   "execution_count": 62,
   "id": "ac578a8a",
   "metadata": {},
   "outputs": [
    {
     "data": {
      "text/plain": [
       "[1, 4, 2, 3]"
      ]
     },
     "execution_count": 62,
     "metadata": {},
     "output_type": "execute_result"
    }
   ],
   "source": [
    "#write a Python program to Remove empty tuples from a list\n",
    "list1 = [1,4,2,3,(),]\n",
    "list1 = [ele for ele in list1 if ele]\n",
    "list1"
   ]
  },
  {
   "cell_type": "code",
   "execution_count": 78,
   "id": "91480d34",
   "metadata": {},
   "outputs": [
    {
     "name": "stdout",
     "output_type": "stream",
     "text": [
      "Enter the number of elements : 5\n",
      "1\n",
      "2\n",
      "1\n",
      "2\n",
      "1\n",
      "The repeated elements are [1, 2]\n"
     ]
    }
   ],
   "source": [
    "#write a Python program to Program to print duplicates from a list of integers\n",
    "def duplicate(z):\n",
    "    judwa = []\n",
    "    si = len(z)\n",
    "    for j in range(si):\n",
    "        k = j+1\n",
    "        for l in range(k,si):\n",
    "            if z[j] == z[k] and z[j] not in judwa:\n",
    "                judwa.append(z[j])\n",
    "    return judwa\n",
    "\n",
    "n = int(input(\"Enter the number of elements : \"))\n",
    "for i in range(0, n):\n",
    "    ele1 = int(input())\n",
    "    list1.append(ele1)\n",
    "print(\"The repeated elements are\",duplicate(list1))"
   ]
  },
  {
   "cell_type": "code",
   "execution_count": 106,
   "id": "014b61ea",
   "metadata": {},
   "outputs": [
    {
     "name": "stdout",
     "output_type": "stream",
     "text": [
      "Enter the number of elements : 3\n",
      "1\n",
      "2\n",
      "3\n",
      "Sum of elemts of list is : 6\n"
     ]
    }
   ],
   "source": [
    "#write a Python program to find Cumulative sum of a list\n",
    "n = int(input(\"Enter the number of elements : \"))\n",
    "list1=[]\n",
    "sum1 = 0\n",
    "for i in range(0, n):\n",
    "    ele1 = int(input())\n",
    "    list1.append(ele1)\n",
    "for j in list1:\n",
    "    sum1 = sum1+j\n",
    "print(\"Sum of elemts of list is :\",sum1)"
   ]
  },
  {
   "cell_type": "code",
   "execution_count": 120,
   "id": "5e562c98",
   "metadata": {},
   "outputs": [
    {
     "name": "stdout",
     "output_type": "stream",
     "text": [
      "Enter the number of elements : 5\n",
      "21\n",
      "21\n",
      "23\n",
      "25\n",
      "24\n",
      "The entered list is : [21, 21, 23, 25, 24]\n",
      "The sum of digits of entered list is :[3, 3, 5, 7, 6]\n"
     ]
    }
   ],
   "source": [
    "#write a Python program to Sum of number digits in List\n",
    "list1=[]\n",
    "list2=[]\n",
    "p = int(input(\"Enter the number of elements : \"))\n",
    "for i in range(0, p):\n",
    "    ele1 = int(input())\n",
    "    list1.append(ele1)\n",
    "print(\"The entered list is :\", list1)\n",
    "for j in list1:\n",
    "    sum1=0\n",
    "    for k in str(j):\n",
    "        sum1 += int(k)\n",
    "    list2.append(sum1)\n",
    "print(\"The sum of digits of entered list is :\" + str(list2))\n",
    "\n",
    "        "
   ]
  },
  {
   "cell_type": "code",
   "execution_count": 124,
   "id": "7285d967",
   "metadata": {},
   "outputs": [
    {
     "name": "stdout",
     "output_type": "stream",
     "text": [
      "Enter the number of elements : 5\n",
      "1\n",
      "2\n",
      "3\n",
      "4\n",
      "5\n",
      "The input list is : [1, 2, 3, 4, 5]\n",
      "Enter the chunk size N : 2\n",
      "The resultant list in chunk size of  2 is [[1, 2], [3, 4], [5]]\n"
     ]
    }
   ],
   "source": [
    "#write a Python program to Break a list into chunks of size N\n",
    "list1=[]\n",
    "p = int(input(\"Enter the number of elements : \"))\n",
    "for i in range(0, p):\n",
    "    ele1 = int(input())\n",
    "    list1.append(ele1)\n",
    "print(\"The input list is :\",list1)\n",
    "n = int(input(\"Enter the chunk size N : \"))\n",
    "list1 = [list1[i:i+n] for i in range(0,len(list1),n)]\n",
    "print(\"The resultant list in chunk size of \",n,'is',list1) "
   ]
  },
  {
   "cell_type": "code",
   "execution_count": 133,
   "id": "52a31d7a",
   "metadata": {},
   "outputs": [
    {
     "name": "stdout",
     "output_type": "stream",
     "text": [
      "Enter the no of elements in first list\n",
      "Enter the elements in numerical format: 5\n",
      "4\n",
      "8\n",
      "6\n",
      "2\n",
      "1\n",
      "Enter a list element separated by space q w e r t y \n",
      "Sorting of first list using second list is [('e', 6), ('q', 4), ('r', 2), ('t', 1), ('w', 8)]\n"
     ]
    }
   ],
   "source": [
    "#write a Python program to Sort the values of first list using second list\n",
    "def joining(list1,list2):\n",
    "    pairing = zip(list2,list1)\n",
    "    y = [z for z in sorted(pairing) ]\n",
    "    return y\n",
    "list1=[]\n",
    "list2=[]\n",
    "print(\"Enter the no of elements in first list\")\n",
    "p = int(input(\"Enter the elements in numerical format: \"))\n",
    "for i in range(0, p):\n",
    "    ele1 = int(input())\n",
    "    list1.append(ele1)\n",
    "input_string = input(\"Enter a list element separated by space \")\n",
    "list2  = input_string.split()\n",
    "print('Sorting of first list using second list is',joining(list1,list2))"
   ]
  },
  {
   "cell_type": "code",
   "execution_count": null,
   "id": "b3dedccf",
   "metadata": {},
   "outputs": [],
   "source": []
  },
  {
   "cell_type": "code",
   "execution_count": null,
   "id": "f0b375f0",
   "metadata": {},
   "outputs": [],
   "source": []
  }
 ],
 "metadata": {
  "kernelspec": {
   "display_name": "Python 3 (ipykernel)",
   "language": "python",
   "name": "python3"
  },
  "language_info": {
   "codemirror_mode": {
    "name": "ipython",
    "version": 3
   },
   "file_extension": ".py",
   "mimetype": "text/x-python",
   "name": "python",
   "nbconvert_exporter": "python",
   "pygments_lexer": "ipython3",
   "version": "3.9.7"
  }
 },
 "nbformat": 4,
 "nbformat_minor": 5
}
